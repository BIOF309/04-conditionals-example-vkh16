{
 "cells": [
  {
   "cell_type": "markdown",
   "metadata": {},
   "source": [
    "\n",
    "# Conditional example "
   ]
  },
  {
   "cell_type": "markdown",
   "metadata": {},
   "source": [
    "- This homework assignment is to provide an example of conditional \n",
    "- Here is a simple condtional that will print one statement if one condition is true and another if it is false \n",
    "\n"
   ]
  },
  {
   "cell_type": "code",
   "execution_count": 17,
   "metadata": {},
   "outputs": [],
   "source": [
    "# create a dictionary that contains traditional Christmas food items from Britain\n",
    "# use the food item as the key and the category of the food as the value \n",
    "christmas_foods = {\"christmas pudding\": \"sweet\",\"mince pies\": \"sweet\",\\\n",
    "                    \"cadbury roses\": \"sweet\",\"walkers shortbread\": \"sweet\",\\\n",
    "                    \"stuffing\": \"savoury\",\"roast turekey\" : \"savoury\",\\\n",
    "                    \"brussel sprouts\": \"horrible_vegetables\"}"
   ]
  },
  {
   "cell_type": "code",
   "execution_count": 18,
   "metadata": {},
   "outputs": [
    {
     "name": "stdout",
     "output_type": "stream",
     "text": [
      "I will miss Britain this Christmas because of the christmas pudding\n",
      "I will miss Britain this Christmas because of the mince pies\n",
      "I will miss Britain this Christmas because of the cadbury roses\n",
      "I will miss Britain this Christmas because of the walkers shortbread\n",
      "I will miss Britain this Christmas because of the stuffing\n",
      "I will miss Britain this Christmas because of the roast turekey\n",
      "I will not miss Britain this Christmas because of the brussel sprouts\n"
     ]
    }
   ],
   "source": [
    "for key, value in christmas_foods.items():\n",
    "    if christmas_foods[key] == \"sweet\" or christmas_foods[key] == \"savoury\":\n",
    "        print(\"I will miss Britain this Christmas because of the \" + key)\n",
    "    else: \n",
    "        print(\"I will not miss Britain this Christmas because of the \" + key)"
   ]
  },
  {
   "cell_type": "code",
   "execution_count": null,
   "metadata": {
    "collapsed": true
   },
   "outputs": [],
   "source": []
  }
 ],
 "metadata": {
  "kernelspec": {
   "display_name": "Python 3",
   "language": "python",
   "name": "python3"
  },
  "language_info": {
   "codemirror_mode": {
    "name": "ipython",
    "version": 3
   },
   "file_extension": ".py",
   "mimetype": "text/x-python",
   "name": "python",
   "nbconvert_exporter": "python",
   "pygments_lexer": "ipython3",
   "version": "3.6.2"
  }
 },
 "nbformat": 4,
 "nbformat_minor": 2
}
